{
 "cells": [
  {
   "cell_type": "markdown",
   "id": "df5c6d37",
   "metadata": {
    "slideshow": {
     "slide_type": "slide"
    }
   },
   "source": [
    "# Modulation Mapper\n",
    "\n",
    "**Goal:** Demonstrate the operation of the modulation mapper and the demodulator\n",
    "\n",
    "**Steps:**\n",
    "\n",
    "* We need a simple source and sink for producing a sequence of bits\n",
    "* How do we describe a constellation?\n",
    "* How do you implement the modulation mapper?\n",
    "* What could go wrong? Noise!\n",
    "* How can we recover the transmitted bits?"
   ]
  },
  {
   "cell_type": "code",
   "execution_count": 1,
   "id": "66a6427d",
   "metadata": {
    "slideshow": {
     "slide_type": "skip"
    }
   },
   "outputs": [],
   "source": [
    "# import standard libraries\",\n",
    "import numpy as np\n",
    "\n",
    "import matplotlib.pyplot as plt\n",
    "%matplotlib inline\n",
    "\n",
    "import seaborn as sns\n",
    "sns_context = \"notebook\"\n",
    "sns.set_theme(context=sns_context, style=\"ticks\")"
   ]
  },
  {
   "cell_type": "markdown",
   "id": "d8929e40",
   "metadata": {
    "slideshow": {
     "slide_type": "slide"
    }
   },
   "source": [
    "## A simple source\n",
    "\n",
    "* For testing, we create a simple source of bits. \n",
    "* The source takes a string as an input and generates a vector of 0's and 1's.\n",
    "* we accomplish this in two steps:\n",
    "  + converting a string into a sequence of bytes\n",
    "  + convert each byte into a sequence of 8 bits\n",
    "* the bit sequence is obtained by concatenating all bits\n",
    "\n",
    "We begin with converting a byte to 8 bits."
   ]
  },
  {
   "cell_type": "markdown",
   "id": "b015a5b0",
   "metadata": {
    "slideshow": {
     "slide_type": "subslide"
    }
   },
   "source": [
    "### Converting bytes to bits\n",
    "\n",
    "* a byte can be viewed as\n",
    "  + a number between 0 and 255\n",
    "  + a sequence of 8 bits\n",
    "  + both perspectives are equivalent\n",
    "* Our goal is to extract the eight bits that make up the byte.\n",
    "* We achieve that as follows:\n",
    "  1. isolate the bit in the first (most significant position)\n",
    "     - compute the `and` of the byte and the mask `1000 000` (decimal 128) \n",
    "  2. shift all bits by one position towards the MSB\n",
    "     - computed using the bit-shift operation `<<`\n",
    "     - this drops the bit that we just extracted\n",
    "  3. repeat until we have all bits\n",
    " "
   ]
  },
  {
   "cell_type": "code",
   "execution_count": 9,
   "id": "84c834c5",
   "metadata": {
    "slideshow": {
     "slide_type": "subslide"
    }
   },
   "outputs": [],
   "source": [
    "def byte_to_bits(b):\n",
    "    \"\"\"convert a byte to a sequence of 8 bits\"\"\"\n",
    "    \n",
    "    # allocate memory for bits\n",
    "    bits = np.zeros(8, dtype=np.uint8)\n",
    "    \n",
    "    # define the mask\n",
    "    mask = 128\n",
    "    \n",
    "    for n in range(8):\n",
    "        # extract the LSB and store it\n",
    "        bits[n] = (b & mask) >> 7\n",
    "        # shift the bits by one position\n",
    "        b = b << 1\n",
    "        \n",
    "    return bits"
   ]
  },
  {
   "cell_type": "code",
   "execution_count": 13,
   "id": "3f185d5e",
   "metadata": {
    "slideshow": {
     "slide_type": "fragment"
    }
   },
   "outputs": [
    {
     "data": {
      "text/plain": [
       "array([0, 0, 0, 1, 1, 1, 1, 0], dtype=uint8)"
      ]
     },
     "execution_count": 13,
     "metadata": {},
     "output_type": "execute_result"
    }
   ],
   "source": [
    "# example: \n",
    "byte_to_bits(30)"
   ]
  },
  {
   "cell_type": "markdown",
   "id": "79ca17b9",
   "metadata": {
    "slideshow": {
     "slide_type": "slide"
    }
   },
   "source": [
    "### Converting a string to bits\n",
    "\n",
    "* With this function in place, converting a string isn't very hard:\n",
    "\n",
    "* loop over the bytes,\n",
    "* convert each byte to bits,\n",
    "* insert the resulting bits into a vector"
   ]
  },
  {
   "cell_type": "code",
   "execution_count": 56,
   "id": "6ae098fb",
   "metadata": {
    "slideshow": {
     "slide_type": "subslide"
    }
   },
   "outputs": [],
   "source": [
    "def string_source(string):\n",
    "    \"\"\"convert a string to a vector of bits\"\"\"\n",
    "    \n",
    "    # convert a string to a sequence of bytes\n",
    "    bb = string.encode()\n",
    "    Nb = len(bb)\n",
    "    \n",
    "    # make space\n",
    "    bits = np.zeros(8 * Nb, dtype=np.uint8)\n",
    "    \n",
    "    for n in range(Nb):\n",
    "        bits[8*n : 8*(n+1)] = byte_to_bits(bb[n])\n",
    "        \n",
    "    return bits"
   ]
  },
  {
   "cell_type": "code",
   "execution_count": 57,
   "id": "e6d4fef8",
   "metadata": {
    "slideshow": {
     "slide_type": "fragment"
    }
   },
   "outputs": [
    {
     "data": {
      "text/plain": [
       "array([0, 1, 0, 0, 1, 0, 0, 0, 0, 1, 1, 0, 1, 0, 0, 1], dtype=uint8)"
      ]
     },
     "execution_count": 57,
     "metadata": {},
     "output_type": "execute_result"
    }
   ],
   "source": [
    "# Example:\n",
    "string_source(\"Hi\")"
   ]
  },
  {
   "cell_type": "markdown",
   "id": "d617f0e6",
   "metadata": {
    "slideshow": {
     "slide_type": "slide"
    }
   },
   "source": [
    "## Modulation Mapper:\n",
    "\n",
    "* A modulation mapper uses a look-up table to map groups of bits to symbols\n",
    "* We use a `dict` to store this table:\n",
    "  + the **keys** hold the group of bits\n",
    "  + the **values** hold the symbols\n",
    "* Here is a table for QPSK"
   ]
  },
  {
   "cell_type": "code",
   "execution_count": 31,
   "id": "c440f876",
   "metadata": {
    "slideshow": {
     "slide_type": "subslide"
    }
   },
   "outputs": [],
   "source": [
    "QPSK = {\n",
    "    0b00: 1,\n",
    "    0b01: 1j,\n",
    "    0b11: -1,\n",
    "    0b10: -1j,\n",
    "}"
   ]
  },
  {
   "cell_type": "code",
   "execution_count": 40,
   "id": "74f7afb3",
   "metadata": {
    "slideshow": {
     "slide_type": "subslide"
    }
   },
   "outputs": [
    {
     "data": {
      "image/png": "[encoded data removed]",
      "text/plain": [
       "<Figure size 640x480 with 1 Axes>"
      ]
     },
     "metadata": {},
     "output_type": "display_data"
    }
   ],
   "source": [
    "# plot the constellation\n",
    "for k,v in QPSK.items():\n",
    "    plt.plot(v.real, v.imag, 'o', label=f\"{k:02b}\")\n",
    "    \n",
    "plt.grid()\n",
    "plt.xlabel('real')\n",
    "plt.ylabel('imag')\n",
    "plt.legend()\n",
    "\n",
    "plt.show()"
   ]
  },
  {
   "cell_type": "markdown",
   "id": "ac1cc845",
   "metadata": {
    "slideshow": {
     "slide_type": "subslide"
    }
   },
   "source": [
    "### Modulation Mapper Function\n",
    "\n",
    "* a modulation mapper takes $\\log_2(M)$ bits at a time and maps them to a symbol\n",
    "  + first the bits are converted to a integer\n",
    "* the lookup table is used to find the symbol that corresponds to the group of bits"
   ]
  },
  {
   "cell_type": "code",
   "execution_count": 45,
   "id": "aced252c",
   "metadata": {
    "slideshow": {
     "slide_type": "subslide"
    }
   },
   "outputs": [],
   "source": [
    "def bits_to_int(bits):\n",
    "    \" convert a sequence of bits to an integer\"\n",
    "    res = 0 \n",
    "    \n",
    "    for b in bits:\n",
    "        res = res << 1\n",
    "        res = res + b\n",
    "        \n",
    "    return res"
   ]
  },
  {
   "cell_type": "code",
   "execution_count": 50,
   "id": "0b983300",
   "metadata": {
    "slideshow": {
     "slide_type": "subslide"
    }
   },
   "outputs": [
    {
     "data": {
      "text/plain": [
       "15"
      ]
     },
     "execution_count": 50,
     "metadata": {},
     "output_type": "execute_result"
    }
   ],
   "source": [
    "# Example:\n",
    "bits_to_int([1, 1, 1, 1])"
   ]
  },
  {
   "cell_type": "code",
   "execution_count": 62,
   "id": "67f7fe55",
   "metadata": {
    "slideshow": {
     "slide_type": "subslide"
    }
   },
   "outputs": [],
   "source": [
    "def mod_mapper(bits, mod_table):\n",
    "    \"\"\"map a sequence of bits to a sequence of symbols\"\"\"\n",
    "    \n",
    "    # how many bits per symbol?\n",
    "    K = int( np.log2(len(mod_table)) )\n",
    "    \n",
    "    # how many symbols will we get?\n",
    "    N = len(bits) // K\n",
    "    syms = np.zeros(N, dtype=complex)\n",
    "    \n",
    "    for n in range(N):\n",
    "        key = bits_to_int(bits[K*n : K*(n+1)])\n",
    "        syms[n] = mod_table[key]\n",
    "        \n",
    "    return syms"
   ]
  },
  {
   "cell_type": "code",
   "execution_count": 66,
   "id": "e5a18db1",
   "metadata": {
    "slideshow": {
     "slide_type": "fragment"
    }
   },
   "outputs": [],
   "source": [
    "bits = string_source('B')"
   ]
  },
  {
   "cell_type": "markdown",
   "id": "90fac15d",
   "metadata": {},
   "source": [
    "bits, mod_mapper(bits, QPSK)"
   ]
  },
  {
   "cell_type": "code",
   "execution_count": null,
   "id": "b1e57c01",
   "metadata": {},
   "outputs": [],
   "source": []
  }
 ],
 "metadata": {
  "celltoolbar": "Slideshow",
  "kernelspec": {
   "display_name": "Python 3 (ipykernel)",
   "language": "python",
   "name": "python3"
  },
  "language_info": {
   "codemirror_mode": {
    "name": "ipython",
    "version": 3
   },
   "file_extension": ".py",
   "mimetype": "text/x-python",
   "name": "python",
   "nbconvert_exporter": "python",
   "pygments_lexer": "ipython3",
   "version": "3.10.13"
  }
 },
 "nbformat": 4,
 "nbformat_minor": 5
}
