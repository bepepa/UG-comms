{
 "cells": [
  {
   "cell_type": "markdown",
   "id": "df5c6d37",
   "metadata": {
    "slideshow": {
     "slide_type": "slide"
    }
   },
   "source": [
    "# Modulation Mapper\n",
    "\n",
    "**Goal:** Demonstrate the operation of the modulation mapper and the demodulator\n",
    "\n",
    "**Steps:**\n",
    "\n",
    "* We need a simple source and sink for producing a sequence of bits\n",
    "* How do we describe a constellation?\n",
    "* How do you implement the modulation mapper?\n",
    "* What could go wrong? Noise!\n",
    "* How can we recover the transmitted bits?"
   ]
  },
  {
   "cell_type": "code",
   "execution_count": 1,
   "id": "66a6427d",
   "metadata": {
    "slideshow": {
     "slide_type": "skip"
    }
   },
   "outputs": [],
   "source": [
    "# import standard libraries\",\n",
    "import numpy as np\n",
    "\n",
    "import matplotlib.pyplot as plt\n",
    "%matplotlib inline\n",
    "\n",
    "import seaborn as sns\n",
    "sns_context = \"notebook\"\n",
    "sns.set_theme(context=sns_context, style=\"ticks\")"
   ]
  },
  {
   "cell_type": "markdown",
   "id": "4ed49cc3",
   "metadata": {
    "slideshow": {
     "slide_type": "slide"
    }
   },
   "source": [
    "## Sources and Sinks\n",
    "\n",
    "* Sources produce a sequence of bits\n",
    "* Over the course of the semester, we will construct a few different sources, including\n",
    "  + a source for trasmitting a text string\n",
    "  + a source for transmitting a file, e.g., an image\n",
    "  + a source that produces randomly generated bits\n",
    "* The sink is simply an endpoint for a system\n",
    "  + e.g., we might write received information to a file\n",
    "  \n",
    "Today, we implement a string source and sink."
   ]
  },
  {
   "cell_type": "markdown",
   "id": "d8929e40",
   "metadata": {
    "slideshow": {
     "slide_type": "subslide"
    }
   },
   "source": [
    "### A simple source - text srings\n",
    "\n",
    "* For testing, we create a simple source of bits. \n",
    "* The source takes a string as an input and generates a vector of 0's and 1's.\n",
    "* we accomplish this in two steps:\n",
    "  + converting a string into a sequence of bytes\n",
    "  + convert each byte into a sequence of 8 bits\n",
    "* the bit sequence is obtained by concatenating all bits\n",
    "\n",
    "We begin with converting a byte to 8 bits."
   ]
  },
  {
   "cell_type": "markdown",
   "id": "b015a5b0",
   "metadata": {
    "slideshow": {
     "slide_type": "subslide"
    }
   },
   "source": [
    "### Converting bytes to bits\n",
    "\n",
    "* a byte can be viewed as\n",
    "  + a number between 0 and 255\n",
    "  + a sequence of 8 bits\n",
    "  + both perspectives are equivalent\n",
    "* Our goal is to extract the eight bits that make up the byte.\n",
    "* We achieve that as follows:\n",
    "  1. isolate the bit in the first (most significant position)\n",
    "     - compute the `and` of the byte and the mask `1000 000` (decimal 128)\n",
    "     - right shift the result by seven bit positions, using `>> 7`\n",
    "       + this moves the bit we extracted from the MSB position to the LSB position\n",
    "  2. shift all bits by one position towards the MSB\n",
    "     - computed using the bit-shift operation `<< 1`\n",
    "     - this drops the bit that we just extracted\n",
    "  3. repeat eight times until we have all bits\n",
    " "
   ]
  },
  {
   "cell_type": "code",
   "execution_count": 2,
   "id": "84c834c5",
   "metadata": {
    "slideshow": {
     "slide_type": "subslide"
    }
   },
   "outputs": [],
   "source": [
    "def byte_to_bits(b):\n",
    "    \"\"\"convert a byte to a sequence of 8 bits\"\"\"\n",
    "    \n",
    "    # allocate memory for bits\n",
    "    bits = np.zeros(8, dtype=np.uint8)\n",
    "    \n",
    "    # define the mask\n",
    "    mask = 128\n",
    "    \n",
    "    for n in range(8):\n",
    "        # extract the MSB and store it\n",
    "        bits[n] = (b & mask) >> 7\n",
    "        # shift the bits by one position\n",
    "        b = b << 1\n",
    "        \n",
    "    return bits"
   ]
  },
  {
   "cell_type": "code",
   "execution_count": 3,
   "id": "3f185d5e",
   "metadata": {
    "slideshow": {
     "slide_type": "fragment"
    }
   },
   "outputs": [
    {
     "name": "stdout",
     "output_type": "stream",
     "text": [
      "decimal 30 (binary 00011110) is converted to:  [0 0 0 1 1 1 1 0]\n"
     ]
    }
   ],
   "source": [
    "## Example: \n",
    "# 30 decimal is 2^4 + 2^3 + 2^2 + 2^1 => 0001 1110\n",
    "x = 30\n",
    "print(f\"decimal {x:d} (binary {x:08b}) is converted to: \", byte_to_bits(x))"
   ]
  },
  {
   "cell_type": "markdown",
   "id": "271f573e",
   "metadata": {
    "slideshow": {
     "slide_type": "subslide"
    }
   },
   "source": [
    "### Converting bits to bytes\n",
    "\n",
    "* We will also need the reverse operation: given a sequence of (up to eight) bits, compute the corresponding byte\n",
    "* This can be accomplished as follows:\n",
    "  + initialize the result `res` to zero\n",
    "    - data type must be an 8-bit integer `uint8`\n",
    "  + loop over the bits, assuming that the first bit is the MSB\n",
    "    - left shift the result by one position, using `<< 1`\n",
    "      * this is equivalent to multiplying by 2\n",
    "    - compute the `or` of the current bit and the result"
   ]
  },
  {
   "cell_type": "code",
   "execution_count": 4,
   "id": "2a78ef6d",
   "metadata": {
    "slideshow": {
     "slide_type": "subslide"
    }
   },
   "outputs": [],
   "source": [
    "def bits_to_byte(bits):\n",
    "    \"\"\"convert a sequence of up to eight bits to a byte\"\"\"\n",
    "    assert len(bits) <= 8, \"Can only convert at most 8 bits at a time\"\n",
    "    \n",
    "    res = np.uint8(0)\n",
    "    \n",
    "    for b in bits:\n",
    "        res = res << 1\n",
    "        res = res | b\n",
    "        \n",
    "    return res"
   ]
  },
  {
   "cell_type": "code",
   "execution_count": 5,
   "id": "4574429f",
   "metadata": {
    "slideshow": {
     "slide_type": "subslide"
    }
   },
   "outputs": [
    {
     "name": "stdout",
     "output_type": "stream",
     "text": [
      "OK\n"
     ]
    }
   ],
   "source": [
    "## Check that round-trip conversion works\n",
    "# check all 256 possible byte values\n",
    "for n in range(256):\n",
    "    assert n == bits_to_byte(byte_to_bits(n))\n",
    "\n",
    "# all good if we get here\n",
    "print('OK')"
   ]
  },
  {
   "cell_type": "markdown",
   "id": "79ca17b9",
   "metadata": {
    "slideshow": {
     "slide_type": "slide"
    }
   },
   "source": [
    "### String source: converting a string to bits\n",
    "\n",
    "* With the `byte_to_bits` function in place, converting a string isn't very hard:\n",
    "\n",
    "* loop over the bytes,\n",
    "* convert each byte to bits,\n",
    "* insert the resulting bits into a vector"
   ]
  },
  {
   "cell_type": "code",
   "execution_count": 6,
   "id": "6ae098fb",
   "metadata": {
    "slideshow": {
     "slide_type": "subslide"
    }
   },
   "outputs": [],
   "source": [
    "def string_source(string):\n",
    "    \"\"\"convert a string to a vector of bits\"\"\"\n",
    "    \n",
    "    # convert a string to a sequence of bytes\n",
    "    bb = string.encode()\n",
    "    Nb = len(bb)\n",
    "    \n",
    "    # make space\n",
    "    bits = np.zeros(8 * Nb, dtype=np.uint8)\n",
    "    \n",
    "    for n in range(Nb):\n",
    "        bits[8*n : 8*(n+1)] = byte_to_bits(bb[n])\n",
    "        \n",
    "    return bits"
   ]
  },
  {
   "cell_type": "code",
   "execution_count": 7,
   "id": "e6d4fef8",
   "metadata": {
    "slideshow": {
     "slide_type": "fragment"
    }
   },
   "outputs": [
    {
     "name": "stdout",
     "output_type": "stream",
     "text": [
      "The string \"Hi\" converts to:  [0 1 0 0 1 0 0 0 0 1 1 0 1 0 0 1]\n"
     ]
    }
   ],
   "source": [
    "## Example:\n",
    "# convert a short string to bits\n",
    "string = \"Hi\"\n",
    "print(f'The string \"{string}\" converts to: ', string_source(string) )"
   ]
  },
  {
   "cell_type": "markdown",
   "id": "2bba1e07",
   "metadata": {
    "slideshow": {
     "slide_type": "subslide"
    }
   },
   "source": [
    "### String sink: converting bits to a string\n",
    "\n",
    "The sink function for strings:\n",
    "* accepts a sequence of bits\n",
    "* converts them into the corresponding sequence of bytes\n",
    "* formats the sequence of bytes as a string"
   ]
  },
  {
   "cell_type": "code",
   "execution_count": 8,
   "id": "a9918858",
   "metadata": {
    "slideshow": {
     "slide_type": "subslide"
    }
   },
   "outputs": [],
   "source": [
    "def string_sink(bits):\n",
    "    \"convert a sequence of bits into a string\"\n",
    "    \n",
    "    # check that number of bits is a multiple of 8\n",
    "    if len(bits) % 8 != 0:\n",
    "        raise ValueError(f'number of bits {len(bits)} is not divisible by 8.')\n",
    "    \n",
    "    # allocate storage\n",
    "    n_bytes = len(bits) // 8\n",
    "    bytes = np.zeros(n_bytes, dtype=np.uint8)\n",
    "\n",
    "    for n in range(n_bytes):\n",
    "        bytes[n] = bits_to_byte(bits[n*8 : (n+1)*8])\n",
    "\n",
    "    # decode the string (deal with unicode encoding)\n",
    "    return bytes.tobytes().decode(\"utf-8\", \"replace\")"
   ]
  },
  {
   "cell_type": "code",
   "execution_count": 9,
   "id": "6dd7b1a4",
   "metadata": {
    "slideshow": {
     "slide_type": "fragment"
    }
   },
   "outputs": [
    {
     "name": "stdout",
     "output_type": "stream",
     "text": [
      "OK\n"
     ]
    }
   ],
   "source": [
    "## Round-trip test\n",
    "string = \"Hi 😲\"\n",
    "assert string == string_sink( string_source(string) )\n",
    "\n",
    "print('OK')"
   ]
  },
  {
   "cell_type": "markdown",
   "id": "d617f0e6",
   "metadata": {
    "slideshow": {
     "slide_type": "slide"
    }
   },
   "source": [
    "## Modulation Mapper:\n",
    "\n",
    "* A modulation mapper uses a look-up table to map groups of bits to symbols\n",
    "* We use a `dict` to store this table:\n",
    "  + the **keys** hold the group of bits\n",
    "  + the **values** hold the symbols\n",
    "* Here is a table for QPSK"
   ]
  },
  {
   "cell_type": "code",
   "execution_count": 10,
   "id": "c440f876",
   "metadata": {
    "slideshow": {
     "slide_type": "subslide"
    }
   },
   "outputs": [],
   "source": [
    "QPSK = {\n",
    "    0b00: 1,\n",
    "    0b01: 1j,\n",
    "    0b11: -1,\n",
    "    0b10: -1j,\n",
    "}"
   ]
  },
  {
   "cell_type": "code",
   "execution_count": 11,
   "id": "74f7afb3",
   "metadata": {
    "slideshow": {
     "slide_type": "subslide"
    }
   },
   "outputs": [
    {
     "data": {
      "image/png": "[encoded data removed]",
      "text/plain": [
       "<Figure size 640x480 with 1 Axes>"
      ]
     },
     "metadata": {},
     "output_type": "display_data"
    }
   ],
   "source": [
    "# plot the constellation\n",
    "for k,v in QPSK.items():\n",
    "    plt.plot(v.real, v.imag, 'bo', label=f\"{k:02b}\")\n",
    "    plt.text(v.real, v.imag+0.05, f\"{k:02b}\", ha='center', va='bottom')\n",
    "    \n",
    "plt.grid()\n",
    "plt.xlabel('real')\n",
    "plt.ylabel('imag')\n",
    "plt.axis('equal')\n",
    "plt.xlim(-1.2, 1.2)\n",
    "plt.ylim(-1.2, 1.2)\n",
    "#plt.legend()\n",
    "\n",
    "plt.show()"
   ]
  },
  {
   "cell_type": "markdown",
   "id": "ac1cc845",
   "metadata": {
    "slideshow": {
     "slide_type": "subslide"
    }
   },
   "source": [
    "### Modulation Mapper Function\n",
    "\n",
    "* a modulation mapper takes $\\log_2(M)$ bits at a time and maps them to a symbol\n",
    "  + first the bits are converted to a integer\n",
    "  + this is very similar to `bits_to_byte`, except the number of bits could exceed 8.\n",
    "* the lookup table is used to find the symbol that corresponds to the group of bits"
   ]
  },
  {
   "cell_type": "code",
   "execution_count": 12,
   "id": "aced252c",
   "metadata": {
    "slideshow": {
     "slide_type": "subslide"
    }
   },
   "outputs": [],
   "source": [
    "def bits_to_int(bits):\n",
    "    \" convert a sequence of bits to an integer\"\n",
    "    res = 0 \n",
    "    \n",
    "    for b in bits:\n",
    "        res = res << 1\n",
    "        res = res + b\n",
    "        \n",
    "    return res"
   ]
  },
  {
   "cell_type": "code",
   "execution_count": 13,
   "id": "0b983300",
   "metadata": {
    "slideshow": {
     "slide_type": "subslide"
    }
   },
   "outputs": [
    {
     "name": "stdout",
     "output_type": "stream",
     "text": [
      "The bit sequence [1 0 1 1] corresponds to decimal 11\n"
     ]
    }
   ],
   "source": [
    "# Example:\n",
    "bits = np.array([1, 0, 1, 1], dtype=np.uint8)\n",
    "print( f\"The bit sequence {bits} corresponds to decimal {bits_to_int(bits)}\" )"
   ]
  },
  {
   "cell_type": "markdown",
   "id": "a7046166",
   "metadata": {
    "slideshow": {
     "slide_type": "subslide"
    }
   },
   "source": [
    "We will also need the reverse function. This function must specify how many bits to produce."
   ]
  },
  {
   "cell_type": "code",
   "execution_count": 14,
   "id": "75ceee61",
   "metadata": {
    "slideshow": {
     "slide_type": "fragment"
    }
   },
   "outputs": [],
   "source": [
    "def int_to_bits(nn, K):\n",
    "    # allocate memory for bits\n",
    "    bits = np.zeros(K, dtype=np.uint8)\n",
    "    \n",
    "    # define the mask\n",
    "    mask = 1 << (K-1)\n",
    "    \n",
    "    for k in range(K):\n",
    "        # extract the LSB and store it\n",
    "        bits[k] = (nn & mask) >> (K-1)\n",
    "        # shift the bits by one position\n",
    "        nn = nn << 1\n",
    "        \n",
    "    return bits"
   ]
  },
  {
   "cell_type": "code",
   "execution_count": 15,
   "id": "b6d372e5",
   "metadata": {
    "slideshow": {
     "slide_type": "fragment"
    }
   },
   "outputs": [
    {
     "name": "stdout",
     "output_type": "stream",
     "text": [
      "OK\n"
     ]
    }
   ],
   "source": [
    "K = 4\n",
    "for n in range(2**K):\n",
    "    assert bits_to_int( int_to_bits(n, K) ) == n\n",
    "    \n",
    "print('OK')"
   ]
  },
  {
   "cell_type": "markdown",
   "id": "8ff03534",
   "metadata": {
    "slideshow": {
     "slide_type": "subslide"
    }
   },
   "source": [
    "Now, we're ready for the modulation mapper itself!"
   ]
  },
  {
   "cell_type": "code",
   "execution_count": 16,
   "id": "67f7fe55",
   "metadata": {
    "slideshow": {
     "slide_type": "subslide"
    }
   },
   "outputs": [],
   "source": [
    "def mod_mapper(bits, mod_table):\n",
    "    \"\"\"map a sequence of bits to a sequence of symbols\"\"\"\n",
    "    \n",
    "    # how many bits per symbol?\n",
    "    K = int( np.log2(len(mod_table)) )\n",
    "    \n",
    "    # how many symbols will we get?\n",
    "    N = len(bits) // K\n",
    "    syms = np.zeros(N, dtype=complex)\n",
    "    \n",
    "    for n in range(N):\n",
    "        key = bits_to_int(bits[K*n : K*(n+1)])\n",
    "        syms[n] = mod_table[key]\n",
    "        \n",
    "    return syms"
   ]
  },
  {
   "cell_type": "code",
   "execution_count": 17,
   "id": "e5a18db1",
   "metadata": {
    "slideshow": {
     "slide_type": "fragment"
    }
   },
   "outputs": [
    {
     "data": {
      "text/plain": [
       "array([ 0.+1.j,  1.+0.j, -0.-1.j,  1.+0.j,  0.+1.j, -0.-1.j, -0.-1.j,\n",
       "        0.+1.j])"
      ]
     },
     "execution_count": 17,
     "metadata": {},
     "output_type": "execute_result"
    }
   ],
   "source": [
    "## Example\n",
    "string = \"Hi\"\n",
    "bits = string_source( string )\n",
    "mod_mapper( bits, QPSK )"
   ]
  },
  {
   "cell_type": "markdown",
   "id": "90fac15d",
   "metadata": {
    "slideshow": {
     "slide_type": "slide"
    }
   },
   "source": [
    "### Channel: discrete Gaussian noise channel\n",
    "\n",
    "* Before implementing the demodulator, we provide a simple, but very relevant channel.\n",
    "* Each transmitted symbol is corrupted by Gaussian noise\n",
    "  + the Gaussian noise values are simulated using a random number generator\n",
    "  + the noise has zero mean and\n",
    "  + variance `sigma_sq`\n",
    "* the function `dgnc` below, takes inputs\n",
    "  + a sequence of symbols, and\n",
    "  + a value for `sigma_sq`\n",
    "* it returns a noisy sequence of symbols"
   ]
  },
  {
   "cell_type": "code",
   "execution_count": 18,
   "id": "b1e57c01",
   "metadata": {
    "slideshow": {
     "slide_type": "subslide"
    }
   },
   "outputs": [],
   "source": [
    "def dgnc(symbols, sigma_sq):\n",
    "    \"\"\"discrete Gaussian noise channel\"\"\"\n",
    "    n_syms = len(symbols)\n",
    "    \n",
    "    if syms.dtype == complex:\n",
    "        noise = np.sqrt(sigma_sq/2) * (np.random.randn(n_syms) + 1j * np.random.randn(n_syms))\n",
    "    else:\n",
    "        noise = np.sqrt(sigma_sq) * np.random.randn(n_syms)\n",
    "    \n",
    "    return symbols + noise"
   ]
  },
  {
   "cell_type": "markdown",
   "id": "11ffb244",
   "metadata": {
    "slideshow": {
     "slide_type": "subslide"
    }
   },
   "source": [
    "### Received symbols\n",
    "\n",
    "Let's see the impact that the noisy channel has on the transmitted symbols\n",
    "\n",
    "* we pass transmitted symbols through the channel, and\n",
    "* plot the received symbols in the complex plane\n",
    "  + true symbol locations are shown for reference"
   ]
  },
  {
   "cell_type": "code",
   "execution_count": 19,
   "id": "784ecff3",
   "metadata": {
    "slideshow": {
     "slide_type": "subslide"
    }
   },
   "outputs": [
    {
     "data": {
      "image/png": "[encoded data removed]",
      "text/plain": [
       "<Figure size 640x480 with 1 Axes>"
      ]
     },
     "metadata": {},
     "output_type": "display_data"
    }
   ],
   "source": [
    "# Transmitter\n",
    "string = \"Now is the time for all good men ...\"\n",
    "bits = string_source( string )\n",
    "syms = mod_mapper( bits, QPSK )\n",
    "\n",
    "# Channel\n",
    "sigma_sq = 0.05\n",
    "rec_syms = dgnc(syms, sigma_sq)\n",
    "\n",
    "# plot the constellation\n",
    "for k,v in QPSK.items():\n",
    "    plt.plot(v.real, v.imag, 'ro', label=f\"{k:02b}\")\n",
    "    plt.text(v.real, v.imag+0.05, f\"{k:02b}\", ha='center', va='bottom')\n",
    "\n",
    "# plot the received symbols\n",
    "plt.plot(rec_syms.real, rec_syms.imag, '.')\n",
    "\n",
    "plt.grid()\n",
    "plt.xlabel('real')\n",
    "plt.ylabel('imag')\n",
    "plt.axis('equal')\n",
    "plt.xlim(-1.2, 1.2)\n",
    "plt.ylim(-1.2, 1.2)\n",
    "#plt.legend()\n",
    "\n",
    "plt.show()"
   ]
  },
  {
   "cell_type": "markdown",
   "id": "27a7d06b",
   "metadata": {
    "slideshow": {
     "slide_type": "subslide"
    }
   },
   "source": [
    "* The noisy symbols are spread out around the transmitted signal locations.\n",
    "\n",
    "* Our final task is to try and recover the original string from the noisy symbols.\n",
    "\n",
    "* That is the task of the demodulator."
   ]
  },
  {
   "cell_type": "markdown",
   "id": "fbd6fcc8",
   "metadata": {},
   "source": [
    "### Demodulator\n",
    "\n",
    "* The demodulator finds the most likely transmitted symbol from the received symbols.\n",
    "* for each received symbol:\n",
    "  - find the symbol in the constellation that is **closest** to the received symbol\n",
    "  - the key ('bit pattern') for that symbol is inserted into the received sequence of bits"
   ]
  },
  {
   "cell_type": "code",
   "execution_count": 20,
   "id": "b79e0c36",
   "metadata": {
    "slideshow": {
     "slide_type": "subslide"
    }
   },
   "outputs": [],
   "source": [
    "def demodulator(syms, mod_table):\n",
    "    \"\"\"Recover bit sequence from reeived symbols\"\"\"\n",
    "    # how many bits per symbol?\n",
    "    K = int( np.log2(len(mod_table)) )\n",
    "    \n",
    "    # how many bits will we get?\n",
    "    N = len(syms) * K\n",
    "    bits = np.zeros(N, dtype=np.uint8)\n",
    "    \n",
    "    # find the constellation point closest to received symb `s`\n",
    "    for n in range(len(syms)):\n",
    "        s = syms[n]\n",
    "        min_d = np.infty\n",
    "        min_k = -1\n",
    "        for k,v in mod_table.items():\n",
    "            dist = np.abs(s - v)\n",
    "            if dist < min_d:\n",
    "                min_d = dist\n",
    "                min_k = k\n",
    "                \n",
    "        # the index of the closest symbol is integer `min_k`\n",
    "        # convert that to a sequence of K bits\n",
    "        bits[n*K : (n+1)*K] = int_to_bits(min_k, K)\n",
    "        \n",
    "    return bits\n",
    "            "
   ]
  },
  {
   "cell_type": "code",
   "execution_count": 21,
   "id": "1f9ba26f",
   "metadata": {
    "slideshow": {
     "slide_type": "subslide"
    }
   },
   "outputs": [
    {
     "data": {
      "text/plain": [
       "'Now is the time for all good men ...'"
      ]
     },
     "execution_count": 21,
     "metadata": {},
     "output_type": "execute_result"
    }
   ],
   "source": [
    "## Let's see if we can get the transmitted string back ...\n",
    "rec_bits = demodulator(rec_syms, QPSK)\n",
    "string_sink(rec_bits)"
   ]
  },
  {
   "cell_type": "markdown",
   "id": "f9aa0f75",
   "metadata": {
    "slideshow": {
     "slide_type": "slide"
    }
   },
   "source": [
    "## Putting it all together\n",
    "\n",
    "The code below shows off all the processing steps we have discussed so far.  \n",
    "\n",
    "We will build on this example as the semester progressess."
   ]
  },
  {
   "cell_type": "code",
   "execution_count": 22,
   "id": "94f69ca5",
   "metadata": {},
   "outputs": [],
   "source": [
    "## Define another constellation: BPSK\n",
    "BPSK = {0b0: 1,\n",
    "        0b1: -1}"
   ]
  },
  {
   "cell_type": "code",
   "execution_count": 23,
   "id": "ec7a5ef4",
   "metadata": {},
   "outputs": [
    {
     "data": {
      "text/plain": [
       "'ECE 460 is my favorite class'"
      ]
     },
     "execution_count": 23,
     "metadata": {},
     "output_type": "execute_result"
    }
   ],
   "source": [
    "## Transmitter:\n",
    "# Source\n",
    "string = \"ECE 460 is my favorite class\"\n",
    "bits = string_source(string)\n",
    "# Modulation mapper\n",
    "syms = mod_mapper(bits, BPSK)\n",
    "\n",
    "## Channel\n",
    "sigma_sq = 0.1\n",
    "rec_syms = dgnc(syms, sigma_sq)\n",
    "\n",
    "## Receiver\n",
    "# Demodulator\n",
    "rec_bits = demodulator(rec_syms, BPSK)\n",
    "# Sink\n",
    "string_sink(rec_bits)"
   ]
  }
 ],
 "metadata": {
  "celltoolbar": "Slideshow",
  "kernelspec": {
   "display_name": "Python 3 (ipykernel)",
   "language": "python",
   "name": "python3"
  },
  "language_info": {
   "codemirror_mode": {
    "name": "ipython",
    "version": 3
   },
   "file_extension": ".py",
   "mimetype": "text/x-python",
   "name": "python",
   "nbconvert_exporter": "python",
   "pygments_lexer": "ipython3",
   "version": "3.10.13"
  }
 },
 "nbformat": 4,
 "nbformat_minor": 5
}
