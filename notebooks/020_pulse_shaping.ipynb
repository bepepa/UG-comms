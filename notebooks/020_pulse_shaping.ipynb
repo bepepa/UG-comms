{
 "cells": [
  {
   "cell_type": "markdown",
   "metadata": {
    "editable": true,
    "slideshow": {
     "slide_type": "slide"
    },
    "tags": []
   },
   "source": [
    "# Pulse Shaping\n",
    "\n",
    "* **Pulse shaping** converts a sequence of discrete-time symbols into an analog signals.\n",
    "  + Recall that the symbols $s_n$ are produced by the modulation mapper from a sequence of bits\n",
    "  + For passband signals, the symbols may be complex-valued\n",
    "* **Goals:**\n",
    "  + Demonstrate how pulse-shaping is performed\n",
    "  + In practice, pulse shaping is performed in discrete-time (using DSP)\n",
    "  + Description of pulse shaping is usually in continuous-time\n",
    "    - we address the subtleties that arise when converting between discrete and continuous time\n",
    "* **Steps:**\n",
    "  + Example pulses: rectangular and half-sine pulses\n",
    "  + Normalize pulses to unit energy\n",
    "    - in continuous and discrete time\n",
    "  + performing pulse-shaping (in discrete-time)\n",
    "  + Putting it all together: from a string to a signal"
   ]
  },
  {
   "cell_type": "code",
   "execution_count": 1,
   "metadata": {
    "editable": true,
    "slideshow": {
     "slide_type": "skip"
    },
    "tags": []
   },
   "outputs": [],
   "source": [
    "# import standard libraries\",\n",
    "import numpy as np\n",
    "\n",
    "import matplotlib.pyplot as plt\n",
    "%matplotlib inline\n",
    "\n",
    "import seaborn as sns\n",
    "sns_context = \"notebook\"\n",
    "sns.set_theme(context=sns_context, style=\"ticks\")"
   ]
  },
  {
   "cell_type": "code",
   "execution_count": 2,
   "metadata": {
    "editable": true,
    "slideshow": {
     "slide_type": "slide"
    },
    "tags": []
   },
   "outputs": [],
   "source": [
    "## import functions from the `comms` modules\n",
    "# see imported modules for details for details\n",
    "from comms.sources import string_source\n",
    "from comms.mod_mapping import PAM4, mod_mapper"
   ]
  },
  {
   "cell_type": "markdown",
   "metadata": {
    "editable": true,
    "slideshow": {
     "slide_type": "slide"
    },
    "tags": []
   },
   "source": [
    "## Pulses for Pulse Shaping\n",
    "\n",
    "* The purpose of pulse-shaping is to convert the discrete-time sequence of symbols $s_n$ to an analog, continuous-time signal $s(t)$.\n",
    "  - the symbols and, thus, the signal may be complex-valued\n",
    "* For linear, digital modulation, the relationship between symbols $s_n$ and the signal $s(t)$ is given by\n",
    "$$\n",
    "s(t) = \\sum_n s_n \\cdot p(t-nT),\n",
    "$$\n",
    "  + where $p(t)$ is a pulse signal and $T$ is the symbol duration.\n",
    "  + we will assume (initially) that $p(t)$ is of duration $T$, i.e., $p(t)=0$ for $t<0$ and for $t \\geq T$.\n",
    "* Examples of pulses are:\n",
    "  - rectangular pulse:\n",
    "  $$\n",
    "   p(t) = \\begin{cases}\n",
    "   \\frac{1}{\\sqrt{T}} & \\text{for $0 \\leq t < T$ }\\\\\n",
    "   0 & \\text{else.}\n",
    "   \\end{cases}\n",
    "  $$\n",
    "  - sine-squared pulse:\n",
    "  $$\n",
    "  p(t) = \\begin{cases}\n",
    "  \\sqrt{\\frac{8}{3T}} \\sin^2(\\pi t/T) & \\text{for $0\\leq t  < T$}\\\\\n",
    "  0 & \\text{else.}\n",
    "   \\end{cases}\n",
    "  $$"
   ]
  },
  {
   "cell_type": "markdown",
   "metadata": {
    "editable": true,
    "slideshow": {
     "slide_type": "slide"
    },
    "tags": []
   },
   "source": [
    "### Pulses have unit energy\n",
    "\n",
    "* By convention, pulses are scaled such that they have unit energy\n",
    "$$\n",
    "    \\int |p(t)|^2 \\; dt = 1.\n",
    "$$\n",
    "* Both of the example pulses above have amplitudes such that their energy is equal to one.\n",
    "  + Note that the amplitudes depend on the symbol period $T$; specifically they are proportional to $1/\\sqrt{T}$\n",
    "* With this scaling the energy of the $n$-th transmitted symbol is\n",
    "$$\n",
    "    \\int |s_n p(t-nT)|^2 \\; dt = |s_n|^2 \\int |p(t)|^2 \\; dt = |s_n|^2.\n",
    "$$\n",
    "* Hence, average energy of a transmitted symbol is the average of $|s_n|^2$.\n",
    "  + Recall that the average of $|s_n|^2$ is the energy per symbol $E_s$ of the constellation.\n",
    "* **Insight:** When pulses are scaled to have unit energy, then the energy per bit or per symbol depends only on the constellation used by the modulation mapper."
   ]
  },
  {
   "cell_type": "markdown",
   "metadata": {
    "editable": true,
    "slideshow": {
     "slide_type": "slide"
    },
    "tags": []
   },
   "source": [
    "### Pulse shaping is performed in discrete time (DSP)\n",
    "\n",
    "* In practice, pulse shaping is performed in discrete-time using DSP.\n",
    "* The conversion to continuous-time is performed by a digital-to-analog-converter (DAC)\n",
    "  * the DAC operates at sampling rate $f_s$\n",
    "  * usually, $f_s$ is chosen such that $f_ssT$ is an integer\n",
    "    + in practice, typical values are $f_sT=4$ or $f_sT=8$\n",
    "    + to produce smooth plots of the continuous-time signal, use $f_sT=32$ or $f_sT=64$ or even higher\n",
    "    + $f_sT$ is called the *oversampling factor*.\n",
    "* In $s(t) = \\sum_n s_n p(t-nT)$ setting $t = m/f_s$ and $T = \\frac{f_sT}{f_s}$ yields the discrete-time signal\n",
    "$$\n",
    "s[m] = \\sum_n s_n p((m-nf_sT)/f_s) = \\sum_n s_n p[m - nf_sT].\n",
    "$$\n",
    "* Thus, just like in continuous time\n",
    "  + $s[m]$ is a sequence of shifted discrete-time pulses $p[m]$.\n",
    "  + the $n$-th pulse has amplitude $s_n$\n",
    "  + pulses are shifted by the oversampling factor, i.e., by $f_sT$ samples.\n"
   ]
  },
  {
   "cell_type": "markdown",
   "metadata": {
    "editable": true,
    "slideshow": {
     "slide_type": "slide"
    },
    "tags": []
   },
   "source": [
    "#### Discrete-time pulses should have unit energy, too\n",
    "\n",
    "* There are two (practical) issues with simply sampling pulses.\n",
    "    + since the continuous-time pulses depend on $T$, so do the discrete-time pulses\n",
    "      - this is undesirable, in DSP we want to be unaware of absolute time scales\n",
    "      - it is acceptable for $p[m]$ to depend on the oversampling factor $f_sT$.\n",
    "    + When pulses are sampled as above, then the discrete-time pulses $p[m]$ will not have unit-energy\n",
    "      - From the Riemann-approximation of the integral, it follows that\n",
    "$$\n",
    "        1 = \\int |p(t)|^2 \\; dt \\approx \\sum_m |p(m/f_s)|^2 \\frac{1}{fs}.\n",
    "$$</br>\n",
    "* This implies that\n",
    "$$\n",
    "    \\sum_m |p(m/f_s)|^2 = \\sum_m |p[m]|^2 \\approx f_s\n",
    "$$\n"
   ]
  },
  {
   "cell_type": "markdown",
   "metadata": {
    "editable": true,
    "slideshow": {
     "slide_type": "slide"
    },
    "tags": []
   },
   "source": [
    "### Scaling discrete-time pulses\n",
    "\n",
    "* Both issues can be addressed by scaling the sampled pulses by $1/\\sqrt{fs}$\n",
    "* The unit-energy discrete-time pulses are:\n",
    "$$\n",
    "    \\hat{p}[m] = \\frac{1}{\\sqrt{f_s}} p(m/f_s).\n",
    "$$\n",
    "* Examples of unit-energy discrete-time pulses are:\n",
    "  - rectangular pulse:\n",
    "  $$\n",
    "   \\hat{p}[m] = \\begin{cases}\n",
    "   \\frac{1}{\\sqrt{f_sT}} & \\text{for $0 \\leq m < f_sT$ }\\\\\n",
    "   0 & \\text{else.}\n",
    "   \\end{cases}\n",
    "  $$\n",
    "  - sine-squared pulse:\n",
    "  $$\n",
    "  \\hat{p}[m] = \\begin{cases}\n",
    "  \\sqrt{\\frac{8}{3f_sT}} \\sin^2(\\pi m/(f_sT)) & \\text{for $0\\leq m  < f_sT$}\\\\\n",
    "  0 & \\text{else.}\n",
    "   \\end{cases}\n",
    "  $$\n",
    "  * Both pulses\n",
    "    + depend only on the oversampling factor $f_sT$\n",
    "    + $\\sum_m |p[m]|^2 \\approx 1$."
   ]
  },
  {
   "cell_type": "markdown",
   "metadata": {
    "editable": true,
    "slideshow": {
     "slide_type": "subslide"
    },
    "tags": []
   },
   "source": [
    "### Example: Rectangular pulse\n",
    "\n",
    "The function below computes a unit-energy rectangular pulse with `fsT` samples per symbol period.\n",
    " * The resulting samples can be used for pulse-shaping in DSP (see below)"
   ]
  },
  {
   "cell_type": "code",
   "execution_count": 3,
   "metadata": {},
   "outputs": [],
   "source": [
    "def rect_pulse(fsT):\n",
    "    \"\"\"synthesize a rectangular pulse\n",
    "\n",
    "    Inputs:\n",
    "    -------\n",
    "    fsT: samples per symbol period\n",
    "\n",
    "    Returns:\n",
    "    --------\n",
    "    pulse of length fsT samples\n",
    "    \"\"\"\n",
    "    pp = np.sqrt(1 / (fsT)) * np.ones(fsT)\n",
    "\n",
    "    return pp"
   ]
  },
  {
   "cell_type": "code",
   "execution_count": 4,
   "metadata": {
    "editable": true,
    "slideshow": {
     "slide_type": "subslide"
    },
    "tags": []
   },
   "outputs": [
    {
     "data": {
      "image/png": "[encoded data removed]",
      "text/plain": [
       "<Figure size 640x480 with 1 Axes>"
      ]
     },
     "metadata": {},
     "output_type": "display_data"
    }
   ],
   "source": [
    "## generate the pulse and plot it\n",
    "fsT = 32\n",
    "pp = rect_pulse(fsT)\n",
    "\n",
    "# plots\n",
    "tt = np.arange(fsT)/fsT\n",
    "plt.stem(tt, pp, label=r'$\\hat{p}[m]$')\n",
    "plt.plot(tt, np.sqrt(fsT)*pp, label=r'$\\sqrt{T} p(t)$')\n",
    "\n",
    "plt.grid()\n",
    "plt.xlabel(r'Time $\\cdot \\frac{1}{T}$')\n",
    "plt.legend()\n",
    "\n",
    "plt.show()"
   ]
  },
  {
   "cell_type": "markdown",
   "metadata": {
    "editable": true,
    "slideshow": {
     "slide_type": "fragment"
    },
    "tags": []
   },
   "source": [
    "The plot above shows:\n",
    "* samples of the the unit-energy discrete-time pulse $\\hat{p}[m]$ and \n",
    "* the continuous-time pulse $p(t)$, scaled by $\\sqrt{T}$.\n",
    "  + plotting the continuous pulse like this, makes it independent of $T$\n",
    "  + the energy of the scaled pulse is $T$."
   ]
  },
  {
   "cell_type": "markdown",
   "metadata": {
    "editable": true,
    "slideshow": {
     "slide_type": "slide"
    },
    "tags": []
   },
   "source": [
    "### Example: Sine-squared pulse\n",
    "\n",
    "The function below computes a unit-energy sine-squared pulse with `fsT` samples per symbol period.\n",
    " * The resulting samples can be used for pulse-shaping in DSP (see below)"
   ]
  },
  {
   "cell_type": "code",
   "execution_count": 5,
   "metadata": {
    "editable": true,
    "slideshow": {
     "slide_type": "subslide"
    },
    "tags": []
   },
   "outputs": [],
   "source": [
    "def sine_squared_pulse(fsT):\n",
    "    \"\"\"synthesize a sine squared pulse\n",
    "\n",
    "    Inputs:\n",
    "    -------\n",
    "    fsT: samples per symbol period\n",
    "\n",
    "    Returns:\n",
    "    --------\n",
    "    unit-energy pulse of length fsT samples\n",
    "    \"\"\"\n",
    "    nn = np.arange(fsT)\n",
    "    pp = np.sqrt(8 / (3 * fsT)) * np.sin(np.pi * nn / fsT) ** 2\n",
    "\n",
    "    return pp"
   ]
  },
  {
   "cell_type": "code",
   "execution_count": 6,
   "metadata": {
    "editable": true,
    "slideshow": {
     "slide_type": "subslide"
    },
    "tags": []
   },
   "outputs": [
    {
     "data": {
      "image/png": "[encoded data removed]",
      "text/plain": [
       "<Figure size 640x480 with 1 Axes>"
      ]
     },
     "metadata": {},
     "output_type": "display_data"
    }
   ],
   "source": [
    "## generate the pulse and plot it\n",
    "fsT = 32\n",
    "pp = sine_squared_pulse(fsT)\n",
    "\n",
    "# plots\n",
    "tt = np.arange(fsT)/fsT\n",
    "plt.stem(tt, pp, label=r'$\\hat{p}[m]$')\n",
    "plt.plot(tt, np.sqrt(fsT)*pp, label=r'$\\sqrt{T} p(t)$')\n",
    "\n",
    "plt.grid()\n",
    "plt.xlabel(r'Time $\\cdot \\frac{1}{T}$')\n",
    "plt.legend()\n",
    "\n",
    "plt.show()"
   ]
  },
  {
   "cell_type": "markdown",
   "metadata": {
    "editable": true,
    "slideshow": {
     "slide_type": "slide"
    },
    "tags": []
   },
   "source": [
    "## Pulse Shaping\n",
    "\n",
    "* We showed above that pulse shaping in discrete-time is described by the following expression\n",
    "$$\n",
    "s[m] = \\sum_n s_n p[m - n f_sT].\n",
    "$$\n",
    "* **Interpretation:** Every $f_sT$ samples, we place a pulse with amplitude $s_n$.\n",
    "* An alternative, more general, interpretation relies on the convolution operation.\n",
    "  + Problem: symbol $s_n$ and pulses $p[m]$ are sampled at different rates/\n",
    "    - symbols are sampled once per symbol period $T$\n",
    "    - pulses are sampled $fsT$ times per symbol period.\n",
    "  * Remedy: up-sample the symbol sequence\n",
    "    - generate a signal $d[m]$ with $f_sT$ samples per symbol period  $T$ by placing $f_sT-1$ zeros between consecutive symbols, i.e.,\n",
    "    $$\n",
    "    d[m] = \\begin{cases}\n",
    "    s_n & \\text{for $m = n \\cdot f_sT$}\\\\\n",
    "    0 & \\text{else.}\n",
    "    \\end{cases}\n",
    "    $$\n",
    "* Then:\n",
    "$$\n",
    "s[m] = d[m] \\ast p[m] = \\sum_k d[k] \\cdot p[m - k].\n",
    "$$\n",
    "* Note that $d[k] \\neq 0$ only if $k = n \\cdot f_sT$."
   ]
  },
  {
   "cell_type": "markdown",
   "metadata": {
    "editable": true,
    "slideshow": {
     "slide_type": "slide"
    },
    "tags": []
   },
   "source": [
    "### A function to perform pulse shaping\n",
    "\n",
    "With the above formulation, we can write a function that performs pulse shaping.\n",
    "* Inputs:\n",
    "  - `syms` - a sequence of symbols\n",
    "  - `pp` - a sampled pulse\n",
    "  - `fsT` - the oversampling factor\n",
    "* Steps:\n",
    "  - up-sample the symbol sequence\n",
    "    + this produce a length $(L-1) \\cdot f_sT + 1$ signal\n",
    "    + where $L$ is the number of symbols\n",
    "  - convolve the up-sampled symbols and the pulse"
   ]
  },
  {
   "cell_type": "code",
   "execution_count": 7,
   "metadata": {
    "editable": true,
    "slideshow": {
     "slide_type": "subslide"
    },
    "tags": []
   },
   "outputs": [],
   "source": [
    "def pulse_shape(syms, pp, fsT):\n",
    "    \"\"\"perform pulse shaping for a sequence of symbols\n",
    "\n",
    "    Inputs:\n",
    "    -------\n",
    "    syms: sequence of symbols\n",
    "    pp: pulse shape (must have `fsT` samples per symbol period)\n",
    "    fsT: samples per symbol period\n",
    "\n",
    "    Returns:\n",
    "    --------\n",
    "    vector of signal samples; length is equal to (len(syms)-1)*fsT + len(pp)\n",
    "    \"\"\"\n",
    "    # upsample the symbol sequence\n",
    "    N_dd = (len(syms) - 1) * fsT + 1  # this avoids extra zeros at end\n",
    "    dd = np.zeros(N_dd, dtype=syms.dtype)\n",
    "    dd[0::fsT] = syms\n",
    "\n",
    "    # convolve with pulse\n",
    "    return np.convolve(dd, pp)"
   ]
  },
  {
   "cell_type": "markdown",
   "metadata": {
    "editable": true,
    "slideshow": {
     "slide_type": "slide"
    },
    "tags": []
   },
   "source": [
    "## Example: From information to transmitted signal\n",
    "\n",
    "The example below shows the process of converting information (the string `Hi`) to bits, then, symbols, and finally (samples) of the transmitted signal.\n",
    "\n",
    "**Note:** the functions and the dictionary `PAM4` are in the `comms` Python package on Github."
   ]
  },
  {
   "cell_type": "code",
   "execution_count": 8,
   "metadata": {
    "editable": true,
    "slideshow": {
     "slide_type": "subslide"
    },
    "tags": []
   },
   "outputs": [
    {
     "name": "stdout",
     "output_type": "stream",
     "text": [
      "bits =  [0 1 0 0 1 0 0 0 0 1 1 0 1 0 0 1]\n",
      "symbols: [ 3.  1. -1.  1.  3. -1. -1.  3.]\n"
     ]
    }
   ],
   "source": [
    "## make some information symbols\n",
    "bits = string_source('Hi')\n",
    "print('bits = ', bits)\n",
    "\n",
    "## modulation mapping - Use 4-PAM to map bits to symbols\n",
    "symbols = mod_mapper(bits, PAM4)\n",
    "print('symbols:', symbols.real)\n",
    "\n",
    "## pulse-shaping: using sine-squared pulses and oversampling fsT=32\n",
    "fsT = 32\n",
    "pulse = rect_pulse(fsT)\n",
    "\n",
    "sig = pulse_shape(symbols, pulse, fsT)\n"
   ]
  },
  {
   "cell_type": "code",
   "execution_count": 9,
   "metadata": {
    "editable": true,
    "slideshow": {
     "slide_type": ""
    },
    "tags": []
   },
   "outputs": [
    {
     "data": {
      "image/png": "[encoded data removed]",
      "text/plain": [
       "<Figure size 640x480 with 1 Axes>"
      ]
     },
     "metadata": {},
     "output_type": "display_data"
    }
   ],
   "source": [
    "## plot the resulting signals\n",
    "plt.plot(np.arange(len(sig))/fsT, np.sqrt(fsT)*sig.real)\n",
    "\n",
    "plt.xlabel(r'Time ($\\cdot \\frac{1}{T}$)')\n",
    "plt.ylabel(r'$\\sqrt{T} s(t)$')\n",
    "plt.grid()\n",
    "\n",
    "plt.show()"
   ]
  }
 ],
 "metadata": {
  "kernelspec": {
   "display_name": "Python 3 (ipykernel)",
   "language": "python",
   "name": "python3"
  },
  "language_info": {
   "codemirror_mode": {
    "name": "ipython",
    "version": 3
   },
   "file_extension": ".py",
   "mimetype": "text/x-python",
   "name": "python",
   "nbconvert_exporter": "python",
   "pygments_lexer": "ipython3",
   "version": "3.12.8"
  }
 },
 "nbformat": 4,
 "nbformat_minor": 4
}
